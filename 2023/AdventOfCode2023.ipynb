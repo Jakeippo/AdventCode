{
 "cells": [
  {
   "cell_type": "code",
   "execution_count": 147,
   "id": "05cfd7f9",
   "metadata": {},
   "outputs": [],
   "source": [
    "#ADVENT OF CODE 2023\n",
    "import re\n",
    "import math\n",
    "import statistics\n",
    "import fileinput"
   ]
  },
  {
   "cell_type": "code",
   "execution_count": 148,
   "id": "e056b18b",
   "metadata": {},
   "outputs": [],
   "source": [
    "##Day 1##\n",
    "\n",
    "#reading input files\n",
    "import fileinput\n",
    "fileinput.close()\n",
    "filenames = ('input1.txt')\n",
    "savedInputs=[]\n",
    "for line in fileinput.input(files=filenames):\n",
    "    line = line.rstrip('\\n') #remove \\n in lines\n",
    "    savedInputs.append(line)\n",
    "fileinput.close()"
   ]
  },
  {
   "cell_type": "code",
   "execution_count": 149,
   "id": "02767ed1",
   "metadata": {},
   "outputs": [
    {
     "data": {
      "text/plain": [
       "54081"
      ]
     },
     "execution_count": 149,
     "metadata": {},
     "output_type": "execute_result"
    }
   ],
   "source": [
    "#1 part 1\n",
    "oneCount=0\n",
    "for line in savedInputs:\n",
    "    line=line.strip('abcdefghijklmnopqrstuvwxyz')\n",
    "    #print(line)\n",
    "    num = (int)(line[0]+line[-1])\n",
    "    #print(num)\n",
    "    oneCount+=num\n",
    "oneCount"
   ]
  },
  {
   "cell_type": "code",
   "execution_count": 150,
   "id": "2d2cc0c4",
   "metadata": {},
   "outputs": [
    {
     "data": {
      "text/plain": [
       "54649"
      ]
     },
     "execution_count": 150,
     "metadata": {},
     "output_type": "execute_result"
    }
   ],
   "source": [
    "#1 part 2\n",
    "oneCount=0\n",
    "digitDict = dict(one='1', two='2', three='3', four='4', five='5', six='6', seven='7', eight='8', nine='9')\n",
    "\n",
    "for line in savedInputs:\n",
    "    \n",
    "    #find and replace first from left and first from right digits spelled out\n",
    "    lineD=dict()\n",
    "    firstIn=-1\n",
    "    lastIn=-1\n",
    "    first=\"\"\n",
    "    last=\"\"\n",
    "    \n",
    "    #find goes left to right\n",
    "    for key in digitDict:\n",
    "        lineD[line.find(key)]=key\n",
    "    del lineD[-1]\n",
    "    if(len(lineD)>0):\n",
    "        firstIn=min(list(lineD))\n",
    "        first=lineD[firstIn]\n",
    "        \n",
    "    lineD.clear()\n",
    "    \n",
    "    #rfind goes right to left \n",
    "    for key in digitDict:\n",
    "        lineD[line.rfind(key)]=key\n",
    "    del lineD[-1]\n",
    "    if(len(lineD)>0):\n",
    "        lastIn=max(list(lineD))\n",
    "        last=lineD[lastIn]\n",
    "    \n",
    "    #replace both\n",
    "    if(firstIn!=-1 and lastIn!=-1):\n",
    "        #print(last)\n",
    "        #only replace leftmost and rightmost\n",
    "        line=line[0:lastIn+1].replace(first,digitDict[first],1)+line[lastIn:].replace(last,digitDict[last],1)\n",
    "        #error case was when sharing last/first character, lastIn+1 fixes\n",
    "        \n",
    "    #strip excess characters as before\n",
    "    line=line.strip('abcdefghijklmnopqrstuvwxyz')\n",
    "    #digits are at the ends\n",
    "    num = (int)(line[0]+line[-1])\n",
    "    oneCount+=num\n",
    "oneCount"
   ]
  },
  {
   "cell_type": "code",
   "execution_count": null,
   "id": "042ac859",
   "metadata": {},
   "outputs": [],
   "source": []
  },
  {
   "cell_type": "code",
   "execution_count": null,
   "id": "747ba497",
   "metadata": {},
   "outputs": [],
   "source": []
  }
 ],
 "metadata": {
  "kernelspec": {
   "display_name": "Python 3 (ipykernel)",
   "language": "python",
   "name": "python3"
  },
  "language_info": {
   "codemirror_mode": {
    "name": "ipython",
    "version": 3
   },
   "file_extension": ".py",
   "mimetype": "text/x-python",
   "name": "python",
   "nbconvert_exporter": "python",
   "pygments_lexer": "ipython3",
   "version": "3.10.9"
  }
 },
 "nbformat": 4,
 "nbformat_minor": 5
}
