{
 "cells": [
  {
   "cell_type": "code",
   "execution_count": 1,
   "id": "05cfd7f9",
   "metadata": {},
   "outputs": [],
   "source": [
    "#ADVENT OF CODE 2023\n",
    "import re\n",
    "import math\n",
    "import statistics\n",
    "import fileinput"
   ]
  },
  {
   "cell_type": "code",
   "execution_count": 15,
   "id": "e056b18b",
   "metadata": {},
   "outputs": [],
   "source": [
    "##Day 1##\n",
    "\n",
    "#reading input files\n",
    "import fileinput\n",
    "fileinput.close()\n",
    "filenames = ('input1.txt')\n",
    "savedInputs=[]\n",
    "for line in fileinput.input(files=filenames):\n",
    "    line = line.rstrip('\\n') #remove \\n in lines\n",
    "    savedInputs.append(line)\n",
    "fileinput.close()"
   ]
  },
  {
   "cell_type": "code",
   "execution_count": 1,
   "id": "02767ed1",
   "metadata": {},
   "outputs": [
    {
     "ename": "NameError",
     "evalue": "name 'savedInputs' is not defined",
     "output_type": "error",
     "traceback": [
      "\u001b[0;31m---------------------------------------------------------------------------\u001b[0m",
      "\u001b[0;31mNameError\u001b[0m                                 Traceback (most recent call last)",
      "Cell \u001b[0;32mIn[1], line 3\u001b[0m\n\u001b[1;32m      1\u001b[0m \u001b[38;5;66;03m#1 part 1\u001b[39;00m\n\u001b[1;32m      2\u001b[0m oneCount\u001b[38;5;241m=\u001b[39m\u001b[38;5;241m0\u001b[39m\n\u001b[0;32m----> 3\u001b[0m \u001b[38;5;28;01mfor\u001b[39;00m line \u001b[38;5;129;01min\u001b[39;00m \u001b[43msavedInputs\u001b[49m:\n\u001b[1;32m      4\u001b[0m     line\u001b[38;5;241m=\u001b[39mline\u001b[38;5;241m.\u001b[39mstrip(\u001b[38;5;124m'\u001b[39m\u001b[38;5;124mabcdefghijklmnopqrstuvwxyz\u001b[39m\u001b[38;5;124m'\u001b[39m)\n\u001b[1;32m      5\u001b[0m     \u001b[38;5;66;03m#print(line)\u001b[39;00m\n",
      "\u001b[0;31mNameError\u001b[0m: name 'savedInputs' is not defined"
     ]
    }
   ],
   "source": [
    "#1 part 1\n",
    "oneCount=0\n",
    "for line in savedInputs:\n",
    "    line=line.strip('abcdefghijklmnopqrstuvwxyz')\n",
    "    #print(line)\n",
    "    num = (int)(line[0]+line[-1])\n",
    "    #print(num)\n",
    "    oneCount+=num\n",
    "oneCount"
   ]
  },
  {
   "cell_type": "code",
   "execution_count": 14,
   "id": "2d2cc0c4",
   "metadata": {},
   "outputs": [
    {
     "ename": "NameError",
     "evalue": "name 'savedInputs' is not defined",
     "output_type": "error",
     "traceback": [
      "\u001b[0;31m---------------------------------------------------------------------------\u001b[0m",
      "\u001b[0;31mNameError\u001b[0m                                 Traceback (most recent call last)",
      "Cell \u001b[0;32mIn[14], line 4\u001b[0m\n\u001b[1;32m      2\u001b[0m oneCount\u001b[38;5;241m=\u001b[39m\u001b[38;5;241m0\u001b[39m\n\u001b[1;32m      3\u001b[0m digitDict \u001b[38;5;241m=\u001b[39m \u001b[38;5;28mdict\u001b[39m(one\u001b[38;5;241m=\u001b[39m\u001b[38;5;124m'\u001b[39m\u001b[38;5;124m1\u001b[39m\u001b[38;5;124m'\u001b[39m, two\u001b[38;5;241m=\u001b[39m\u001b[38;5;124m'\u001b[39m\u001b[38;5;124m2\u001b[39m\u001b[38;5;124m'\u001b[39m, three\u001b[38;5;241m=\u001b[39m\u001b[38;5;124m'\u001b[39m\u001b[38;5;124m3\u001b[39m\u001b[38;5;124m'\u001b[39m, four\u001b[38;5;241m=\u001b[39m\u001b[38;5;124m'\u001b[39m\u001b[38;5;124m4\u001b[39m\u001b[38;5;124m'\u001b[39m, five\u001b[38;5;241m=\u001b[39m\u001b[38;5;124m'\u001b[39m\u001b[38;5;124m5\u001b[39m\u001b[38;5;124m'\u001b[39m, six\u001b[38;5;241m=\u001b[39m\u001b[38;5;124m'\u001b[39m\u001b[38;5;124m6\u001b[39m\u001b[38;5;124m'\u001b[39m, seven\u001b[38;5;241m=\u001b[39m\u001b[38;5;124m'\u001b[39m\u001b[38;5;124m7\u001b[39m\u001b[38;5;124m'\u001b[39m, eight\u001b[38;5;241m=\u001b[39m\u001b[38;5;124m'\u001b[39m\u001b[38;5;124m8\u001b[39m\u001b[38;5;124m'\u001b[39m, nine\u001b[38;5;241m=\u001b[39m\u001b[38;5;124m'\u001b[39m\u001b[38;5;124m9\u001b[39m\u001b[38;5;124m'\u001b[39m)\n\u001b[0;32m----> 4\u001b[0m \u001b[38;5;28;01mfor\u001b[39;00m line \u001b[38;5;129;01min\u001b[39;00m \u001b[43msavedInputs\u001b[49m:\n\u001b[1;32m      5\u001b[0m     lineS\u001b[38;5;241m=\u001b[39m\u001b[38;5;28mdict\u001b[39m()\n\u001b[1;32m      6\u001b[0m     \u001b[38;5;28;01mfor\u001b[39;00m key \u001b[38;5;129;01min\u001b[39;00m digitDict:\n",
      "\u001b[0;31mNameError\u001b[0m: name 'savedInputs' is not defined"
     ]
    }
   ],
   "source": [
    "#1 part 2\n",
    "oneCount=0\n",
    "digitDict = dict(one='1', two='2', three='3', four='4', five='5', six='6', seven='7', eight='8', nine='9')\n",
    "for line in savedInputs:\n",
    "    lineS=dict()\n",
    "    for key in digitDict:\n",
    "        lineS[line.find(key)]=key\n",
    "    del lineS[-1]\n",
    "    #print(lineS)\n",
    "    \n",
    "    first=lineS[min(list(lineS))]\n",
    "    last=lineS[max(list(lineS))]\n",
    "    line=line.replace(first,digitDict[first])\n",
    "    line=line.replace(last,digitDict[last])\n",
    "    \n",
    "    line=line.strip('abcdefghijklmnopqrstuvwxyz')\n",
    "    #print(line)\n",
    "    \n",
    "    num = (int)(line[0]+line[-1])\n",
    "    print(num)\n",
    "    oneCount+=num\n",
    "oneCount"
   ]
  },
  {
   "cell_type": "code",
   "execution_count": null,
   "id": "ab2b65da",
   "metadata": {},
   "outputs": [],
   "source": []
  }
 ],
 "metadata": {
  "kernelspec": {
   "display_name": "Python 3 (ipykernel)",
   "language": "python",
   "name": "python3"
  },
  "language_info": {
   "codemirror_mode": {
    "name": "ipython",
    "version": 3
   },
   "file_extension": ".py",
   "mimetype": "text/x-python",
   "name": "python",
   "nbconvert_exporter": "python",
   "pygments_lexer": "ipython3",
   "version": "3.10.9"
  }
 },
 "nbformat": 4,
 "nbformat_minor": 5
}
