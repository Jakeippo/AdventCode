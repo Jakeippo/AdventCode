{
 "cells": [
  {
   "cell_type": "code",
   "execution_count": 35,
   "metadata": {},
   "outputs": [],
   "source": [
    "#ADVENT OF CODE 2020\n",
    "import re\n",
    "import fileinput"
   ]
  },
  {
   "cell_type": "code",
   "execution_count": 36,
   "metadata": {},
   "outputs": [],
   "source": [
    "#reading input files\n",
    "import fileinput\n",
    "filenames = ('input1.txt')\n",
    "savedInputs=[]\n",
    "for line in fileinput.input(files=filenames):\n",
    "    line = line.rstrip('\\n') #remove \\n in lines\n",
    "    linenum = int(line) #cast to int\n",
    "    savedInputs.append(linenum)\n",
    "fileinput.close()\n",
    "\n",
    "#print(savedInputs)"
   ]
  },
  {
   "cell_type": "code",
   "execution_count": 37,
   "metadata": {},
   "outputs": [
    {
     "name": "stdout",
     "output_type": "stream",
     "text": [
      "1805\n",
      "215\n",
      "388075\n"
     ]
    }
   ],
   "source": [
    "#1 part 1\n",
    "target = 2020\n",
    "firstanswer=0\n",
    "\n",
    "sumTargets=[0]\n",
    "done=False\n",
    "for num in savedInputs:\n",
    "    for secondNum in sumTargets:\n",
    "        if (num==secondNum):\n",
    "            print(num)\n",
    "            print(2020-num)\n",
    "            firstanswer=2020-num\n",
    "            firstanswer*=num\n",
    "            done=True\n",
    "    if num==2020 or done:\n",
    "        break\n",
    "    else:\n",
    "        sumTargets.append(2020-num)\n",
    "print(firstanswer)"
   ]
  },
  {
   "cell_type": "code",
   "execution_count": 38,
   "metadata": {},
   "outputs": [
    {
     "name": "stdout",
     "output_type": "stream",
     "text": [
      "293450526\n"
     ]
    }
   ],
   "source": [
    "#1 part 2\n",
    "\n",
    "secondanswer=0\n",
    "\n",
    "\n",
    "index = 0\n",
    "length=len(savedInputs)\n",
    "for num in savedInputs:\n",
    "    goalsum=target-num\n",
    "    done=False\n",
    "    sumTargets=[0]\n",
    "    indexb=index+1\n",
    "    for secondNum in savedInputs[indexb:length]:\n",
    "        for targetNum in sumTargets:\n",
    "            if (secondNum==targetNum):\n",
    "                #print(num)\n",
    "                #print(secondNum)\n",
    "                #print(goalsum-secondNum)\n",
    "                secondanswer=goalsum-secondNum\n",
    "                secondanswer*=secondNum\n",
    "                secondanswer*=num\n",
    "                done=True\n",
    "                break\n",
    "        if done:\n",
    "            break\n",
    "        else:\n",
    "            sumTargets.append(goalsum-secondNum)\n",
    "    if done:\n",
    "        break\n",
    "    else:\n",
    "        index+=1\n",
    "\n",
    "print(secondanswer)\n",
    "    "
   ]
  },
  {
   "cell_type": "code",
   "execution_count": 39,
   "metadata": {},
   "outputs": [
    {
     "data": {
      "text/plain": [
       "447"
      ]
     },
     "execution_count": 39,
     "metadata": {},
     "output_type": "execute_result"
    }
   ],
   "source": [
    "import fileinput\n",
    "filenames = ('input2.txt')\n",
    "savedInputs=[]\n",
    "for line in fileinput.input(files=filenames):\n",
    "    line = line.rstrip('\\n') #remove \\n in lines\n",
    "    savedInputs.append(re.split(\":\\s\",line))\n",
    "fileinput.close()\n",
    "savedInputs\n",
    "pws=[]\n",
    "rules=[]\n",
    "for l in savedInputs:\n",
    "    pws.append(l[1])\n",
    "    rules.append(re.split('[\\-\\s]',l[0]))\n",
    "#print(rules)\n",
    "i=0\n",
    "total=0\n",
    "for pw in pws:\n",
    "    r=rules[i]\n",
    "    #expr='(?:'+r[2]+'{'+r[0]+','+r[1]+'})'\n",
    "    #p=re.compile(expr)\n",
    "    #result=p.fullmatch(pw)\n",
    "    c=pw.count(r[2])\n",
    "    p=  c>=int(r[0]) and c<=int(r[1])\n",
    "    if(p):\n",
    "        total+=1\n",
    "    i+=1\n",
    "total"
   ]
  },
  {
   "cell_type": "code",
   "execution_count": 40,
   "metadata": {},
   "outputs": [
    {
     "data": {
      "text/plain": [
       "249"
      ]
     },
     "execution_count": 40,
     "metadata": {},
     "output_type": "execute_result"
    }
   ],
   "source": [
    "i=0\n",
    "total=0\n",
    "for pw in pws:\n",
    "    r=rules[i]\n",
    "    pa= pw[int(r[0])-1]==r[2]\n",
    "    pb= pw[int(r[1])-1]==r[2]\n",
    "    if((pa or pb) and not(pa and pb)):\n",
    "        total+=1\n",
    "    i+=1\n",
    "total"
   ]
  }
 ],
 "metadata": {
  "interpreter": {
   "hash": "5ccb67ea8beaab0bbeb2d7e5946089ae56f3a615c4a6dd027806d8f00717599b"
  },
  "kernelspec": {
   "display_name": "Python 3.7.3 64-bit ('base')",
   "name": "python3"
  },
  "language_info": {
   "codemirror_mode": {
    "name": "ipython",
    "version": 3
   },
   "file_extension": ".py",
   "mimetype": "text/x-python",
   "name": "python",
   "nbconvert_exporter": "python",
   "pygments_lexer": "ipython3",
   "version": "3.7.3"
  },
  "orig_nbformat": 4
 },
 "nbformat": 4,
 "nbformat_minor": 2
}
