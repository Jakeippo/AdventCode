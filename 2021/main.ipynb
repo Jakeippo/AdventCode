{
 "cells": [
  {
   "cell_type": "code",
   "execution_count": 1186,
   "metadata": {},
   "outputs": [],
   "source": [
    "#ADVENT OF CODE 2021\n",
    "import re\n",
    "import math\n",
    "import statistics\n",
    "import fileinput"
   ]
  },
  {
   "cell_type": "code",
   "execution_count": 1187,
   "metadata": {},
   "outputs": [],
   "source": [
    "##Day 1##\n",
    "\n",
    "#reading input files\n",
    "import fileinput\n",
    "fileinput.close()\n",
    "filenames = ('input1.txt')\n",
    "savedInputs=[]\n",
    "for line in fileinput.input(files=filenames):\n",
    "    line = line.rstrip('\\n') #remove \\n in lines\n",
    "    linenum = int(line) #cast to int\n",
    "    savedInputs.append(linenum)\n",
    "fileinput.close()\n",
    "\n",
    "#print(savedInputs)"
   ]
  },
  {
   "cell_type": "code",
   "execution_count": 1188,
   "metadata": {},
   "outputs": [
    {
     "data": {
      "text/plain": [
       "1387"
      ]
     },
     "execution_count": 1188,
     "metadata": {},
     "output_type": "execute_result"
    }
   ],
   "source": [
    "#1 part 1\n",
    "oneCount=0\n",
    "prevSonar= 0\n",
    "for sonar in savedInputs:\n",
    "    if (prevSonar!=0 and prevSonar<sonar):\n",
    "        oneCount+=1\n",
    "    prevSonar=sonar\n",
    "    \n",
    "oneCount"
   ]
  },
  {
   "cell_type": "code",
   "execution_count": 1189,
   "metadata": {},
   "outputs": [
    {
     "data": {
      "text/plain": [
       "1362"
      ]
     },
     "execution_count": 1189,
     "metadata": {},
     "output_type": "execute_result"
    }
   ],
   "source": [
    "#1 part 2\n",
    "sonarWindow=[0,0,0]\n",
    "windowCount=0\n",
    "\n",
    "for sonar in savedInputs:\n",
    "    #first three\n",
    "    if(sonarWindow[0]==0):\n",
    "        sonarWindow[0]=sonar\n",
    "    elif (sonarWindow[1]==0):\n",
    "        sonarWindow[1]=sonar\n",
    "        \n",
    "    elif (sonarWindow[2]==0):\n",
    "        sonarWindow[2]=sonar\n",
    "    else:\n",
    "        #check increase\n",
    "        inc = sonarWindow[0]+sonarWindow[1]+sonarWindow[2]<sonar+sonarWindow[1]+sonarWindow[2]\n",
    "        if(inc):\n",
    "            windowCount+=1\n",
    "        #shift\n",
    "        sonarWindow[0]=sonarWindow[1]\n",
    "        sonarWindow[1]=sonarWindow[2]\n",
    "        sonarWindow[2]=sonar\n",
    "\n",
    "windowCount\n"
   ]
  },
  {
   "cell_type": "code",
   "execution_count": 1190,
   "metadata": {},
   "outputs": [],
   "source": [
    "##Day 2##\n",
    "fileinput.close()\n",
    "\n",
    "filenames = ('input2.txt')\n",
    "savedInputs=[]\n",
    "for line in fileinput.input(files=filenames):\n",
    "    line = line.rstrip('\\n') #remove \\n in lines\n",
    "    dir = line[0]\n",
    "    val = re.search(r'\\d+',line)[0]\n",
    "    val = int(val)\n",
    "\n",
    "    savedInputs.append([dir,val])\n",
    "fileinput.close()\n"
   ]
  },
  {
   "cell_type": "code",
   "execution_count": 1191,
   "metadata": {},
   "outputs": [
    {
     "data": {
      "text/plain": [
       "2147104"
      ]
     },
     "execution_count": 1191,
     "metadata": {},
     "output_type": "execute_result"
    }
   ],
   "source": [
    "horizontal=0\n",
    "depth=0\n",
    "\n",
    "for move in savedInputs:\n",
    "    if(move[0]=='f'):\n",
    "        horizontal+=move[1]\n",
    "    elif(move[0]=='d'):\n",
    "        depth+=move[1]\n",
    "    #elif(move[0]=='b'):\n",
    "        #horizontal-=move[1]\n",
    "    elif(move[0]=='u'):\n",
    "        depth-=move[1]\n",
    "    else:\n",
    "        print('bad')\n",
    "\n",
    "\n",
    "horizontal*depth\n"
   ]
  },
  {
   "cell_type": "code",
   "execution_count": 1192,
   "metadata": {},
   "outputs": [
    {
     "data": {
      "text/plain": [
       "2044620088"
      ]
     },
     "execution_count": 1192,
     "metadata": {},
     "output_type": "execute_result"
    }
   ],
   "source": [
    "horizontal=0\n",
    "depth=0\n",
    "aim=0\n",
    "\n",
    "for move in savedInputs:\n",
    "    if(move[0]=='f'):\n",
    "        horizontal+=move[1]\n",
    "        depth+=aim*move[1]\n",
    "    elif(move[0]=='d'):\n",
    "        #depth+=move[1]\n",
    "        aim+=move[1]\n",
    "    elif(move[0]=='u'):\n",
    "        #depth-=move[1]\n",
    "        aim-=move[1]\n",
    "    else:\n",
    "        print('bad')\n",
    "\n",
    "\n",
    "horizontal*depth"
   ]
  },
  {
   "cell_type": "code",
   "execution_count": 1193,
   "metadata": {},
   "outputs": [
    {
     "name": "stdout",
     "output_type": "stream",
     "text": [
      "[511, 497, 496, 506, 504, 519, 487, 488, 499, 520, 503, 499]\n",
      "2502*1593\n"
     ]
    },
    {
     "data": {
      "text/plain": [
       "3985686"
      ]
     },
     "execution_count": 1193,
     "metadata": {},
     "output_type": "execute_result"
    }
   ],
   "source": [
    "##Day 3##\n",
    "#part 1\n",
    "fileinput.close()\n",
    "\n",
    "filenames = ('input3.txt')\n",
    "savedInputs=[]\n",
    "counts=[]\n",
    "amount=0\n",
    "for line in fileinput.input(files=filenames):\n",
    "    line = line.rstrip('\\n') #remove \\n in lines\n",
    "    if(amount==0):\n",
    "        for digit in range(len(line)):\n",
    "            counts.append(0)\n",
    "        #print(counts)\n",
    "    for digit in range(len(line)):\n",
    "        counts[digit]+=int(line[digit])\n",
    "    amount+=1\n",
    "    savedInputs.append(line)\n",
    "fileinput.close()\n",
    "print(counts)\n",
    "#print(amount)\n",
    "\n",
    "\n",
    "gamma=0\n",
    "epsilon=0\n",
    "\n",
    "first=True\n",
    "for digit in counts:\n",
    "    if(not first):\n",
    "        gamma=gamma<<1\n",
    "        epsilon=epsilon<<1\n",
    "    if digit>(amount/2):\n",
    "        gamma=gamma|1\n",
    "    elif digit<(amount/2):\n",
    "        epsilon=epsilon|1\n",
    "    else:\n",
    "        #same?\n",
    "        gamma=gamma|1\n",
    "    first=False\n",
    "print(str(gamma)+\"*\"+str(epsilon))   \n",
    "gamma*epsilon #=power consumption"
   ]
  },
  {
   "cell_type": "code",
   "execution_count": 1194,
   "metadata": {},
   "outputs": [
    {
     "name": "stdout",
     "output_type": "stream",
     "text": [
      "[[511, 489], [268, 235], [142, 117], [73, 57], [38, 24], [20, 11], [14, 5], [7, 2], [5, 1], [3, 0], [2, 0], [1, 0]]\n",
      "101011011101:2781\n",
      "001110010111:919\n"
     ]
    },
    {
     "data": {
      "text/plain": [
       "2555739"
      ]
     },
     "execution_count": 1194,
     "metadata": {},
     "output_type": "execute_result"
    }
   ],
   "source": [
    "#3 part 2\n",
    "oxg=0\n",
    "coscrub=0\n",
    "\n",
    "bits=len(counts)\n",
    "\n",
    "ogap=gamma\n",
    "odepth=0\n",
    "\n",
    "cgap=epsilon\n",
    "cdepth=0\n",
    "\n",
    "most=''\n",
    "least=''\n",
    "\n",
    "nums=savedInputs\n",
    "#print(nums)\n",
    "mosts=[nums]\n",
    "leasts=[nums]\n",
    "for i in range(bits):\n",
    "    #total counts\n",
    "    mamount=len(mosts[i])\n",
    "    lamount=len(leasts[i])\n",
    "    #count 1s this digit\n",
    "    onecountm=0\n",
    "    for n in range(mamount):\n",
    "        if(mosts[i][n][i]=='1'):\n",
    "            onecountm+=1\n",
    "\n",
    "    onecountl=0\n",
    "    for n in range(lamount):\n",
    "        if(leasts[i][n][i]=='1'):\n",
    "            onecountl+=1\n",
    "    #most frequent digit based on totals\n",
    "    if(onecountm>(mamount/2)):\n",
    "        most=most+'1'\n",
    "    elif(onecountm<(mamount/2)):\n",
    "        most=most+'0'\n",
    "    else:\n",
    "        most=most+'1'\n",
    "\n",
    "    if(onecountl>(lamount/2)):\n",
    "        least=least+'0'\n",
    "    elif(onecountl<(lamount/2)):\n",
    "        least=least+'1'\n",
    "    else:\n",
    "        least=least+'0'\n",
    "    #print(most)\n",
    "    #print(least)\n",
    "    #remove others\n",
    "    newm=[]\n",
    "    newl=[]\n",
    "    for n in range(mamount):\n",
    "        if(mosts[i][n][i]==most[i]):\n",
    "            newm.append(mosts[i][n])\n",
    "    for n in range(lamount):\n",
    "        if(leasts[i][n][i]==least[i]):\n",
    "            newl.append(leasts[i][n])\n",
    "    mosts[i]=newm\n",
    "    leasts[i]=newl\n",
    "\n",
    "    if(len(newm)==1):\n",
    "        oxg=newm[0]\n",
    "    if(len(newl)==1):\n",
    "        coscrub=newl[0]\n",
    "    if(i+1<bits):\n",
    "        mosts.append(newm)\n",
    "        leasts.append(newl)\n",
    "\n",
    "counts=[]\n",
    "for i in range(bits):\n",
    "    counts.append([len(mosts[i]),len(leasts[i])])\n",
    "print(counts)\n",
    "\n",
    "            \n",
    "\n",
    "\n",
    "\n",
    "print(str(oxg)+\":\"+str(int(oxg,2)))\n",
    "print(str(coscrub)+\":\"+str(int(coscrub,2)))\n",
    "int(oxg,2)*int(coscrub,2)\n"
   ]
  },
  {
   "cell_type": "code",
   "execution_count": 1195,
   "metadata": {},
   "outputs": [
    {
     "name": "stdout",
     "output_type": "stream",
     "text": [
      "21\n",
      "839*46\n"
     ]
    },
    {
     "data": {
      "text/plain": [
       "38594"
      ]
     },
     "execution_count": 1195,
     "metadata": {},
     "output_type": "execute_result"
    }
   ],
   "source": [
    "#day 4\n",
    "\n",
    "#part1\n",
    "\n",
    "fileinput.close()\n",
    "\n",
    "filenames = ('input4.txt')\n",
    "savedInputs=[]\n",
    "for line in fileinput.input(files=filenames):\n",
    "    line = line.rstrip('\\n') #remove \\n \n",
    "    savedInputs.append(line)\n",
    "fileinput.close()\n",
    "\n",
    "drawn=[]\n",
    "boards=[]\n",
    "board_size=5\n",
    "#array of numbers drawn in order\n",
    "drawn=savedInputs[0].split(',')\n",
    "#print(drawn)\n",
    "\n",
    "#array of boards split into array of rows columns\n",
    "for i in range(2,len(savedInputs),board_size+1):\n",
    "    boards.append(savedInputs[i:i+board_size])\n",
    "\n",
    "for b in boards:\n",
    "    for ri in range(board_size):\n",
    "        b[ri]=re.split(\"\\s+\",b[ri].strip())\n",
    "\n",
    "game=boards\n",
    "\n",
    "\n",
    "bingoChecks=[]\n",
    "ind=list(range(board_size))\n",
    "#rows\n",
    "for y in ind:\n",
    "    bingoChecks.append([[y,x] for x in ind])\n",
    "#columns\n",
    "for x in ind:\n",
    "    bingoChecks.append([[y,x] for y in ind])\n",
    "#diagonals\n",
    "#bingoChecks.append([[x,x] for x in ind])\n",
    "#bingoChecks.append([[x,board_size-1-x] for x in ind])\n",
    "\n",
    "#run the game\n",
    "lastdrawn=-1\n",
    "winningb=[]\n",
    "turn=1\n",
    "for draw in drawn:\n",
    "    bingo=False\n",
    "\n",
    "    #marking boards each drawn\n",
    "    for bi in range(len(game)):\n",
    "        for by in range(board_size):\n",
    "            for bx in range(board_size):\n",
    "                num=game[bi][by][bx]\n",
    "                if(num==draw):\n",
    "                    game[bi][by][bx]='X'\n",
    "\n",
    "    #checking for bingo\n",
    "    if(turn>=board_size):\n",
    "        for b in game:\n",
    "            for c in bingoChecks:\n",
    "                allX=True\n",
    "                for i in range(len(c)):\n",
    "                    allX= allX and b[c[i][0]][c[i][1]]=='X'\n",
    "                if(allX):\n",
    "                    bingo=True\n",
    "                    break\n",
    "            if(bingo):\n",
    "                winningb=b\n",
    "                break\n",
    "    \n",
    "    if(bingo):\n",
    "        lastdrawn=draw\n",
    "        break\n",
    "    else:\n",
    "        #print('no bingo round '+str(turn)+' drawing '+draw)\n",
    "        turn+=1\n",
    "\n",
    "#print(winningb)\n",
    "print(turn)\n",
    "# sum remaining unmarked    \n",
    "total=0           \n",
    "for r in winningb:\n",
    "    for d in r:\n",
    "        if(d!='X'):\n",
    "            total+=int(d)\n",
    "print(str(total)+\"*\"+lastdrawn)\n",
    "total*int(lastdrawn)"
   ]
  },
  {
   "cell_type": "code",
   "execution_count": 1196,
   "metadata": {},
   "outputs": [
    {
     "name": "stdout",
     "output_type": "stream",
     "text": [
      "331*64\n"
     ]
    },
    {
     "data": {
      "text/plain": [
       "21184"
      ]
     },
     "execution_count": 1196,
     "metadata": {},
     "output_type": "execute_result"
    }
   ],
   "source": [
    "#4 part 2\n",
    "\n",
    "\n",
    "\n",
    "game=boards\n",
    "    \n",
    "lastdrawn='none'\n",
    "worstb=[]\n",
    "\n",
    "turn=1\n",
    "found=False\n",
    "\n",
    "for draw in drawn:\n",
    "    lastbingo=False\n",
    "    #marking boards each drawn\n",
    "    #print(\"Turn #\"+str(turn)+': '+str(len(game))+' boards, drawing '+draw)\n",
    "    for bi in range(len(game)):\n",
    "        for by in range(board_size):\n",
    "            for bx in range(board_size):\n",
    "                num=game[bi][by][bx]\n",
    "                if(num==draw):\n",
    "                    game[bi][by][bx]='X'\n",
    "    winners=[]\n",
    "    #checking for bingo\n",
    "    if(turn>=board_size):\n",
    "        for bi in range(len(game)):\n",
    "            bingo=False\n",
    "            for c in bingoChecks:\n",
    "                allX=True\n",
    "                for i in range(board_size):\n",
    "                    allX= allX and game[bi][c[i][0]][c[i][1]]=='X'\n",
    "                if(allX):\n",
    "                    bingo=True\n",
    "                    break\n",
    "            if(bingo and found):\n",
    "                lastbingo=True\n",
    "                lastdrawn=draw\n",
    "                worstb=game[0]\n",
    "                break\n",
    "            elif(bingo):\n",
    "                winners.append(bi)\n",
    "    \n",
    "    \n",
    "    if(len(winners)>0):\n",
    "        winners.reverse()\n",
    "        #print(winners)\n",
    "        while(len(winners)>0):\n",
    "            game.pop(winners[0])\n",
    "            winners.pop(0)\n",
    "        if(len(game)==1):\n",
    "            found=True\n",
    "\n",
    "    if(found and lastbingo):\n",
    "        break\n",
    "    else:\n",
    "        turn+=1\n",
    "\n",
    "#print(worstb)\n",
    "\n",
    "# sum remaining unmarked    \n",
    "total=0           \n",
    "for r in worstb:\n",
    "    for d in r:\n",
    "        if(d!='X'):\n",
    "            total+=int(d)\n",
    "print(str(total)+\"*\"+lastdrawn)\n",
    "total*int(lastdrawn)\n"
   ]
  },
  {
   "cell_type": "code",
   "execution_count": 1197,
   "metadata": {},
   "outputs": [
    {
     "data": {
      "text/plain": [
       "19374"
      ]
     },
     "execution_count": 1197,
     "metadata": {},
     "output_type": "execute_result"
    }
   ],
   "source": [
    "#day 5\n",
    "#part 1&2\n",
    "\n",
    "fileinput.close()\n",
    "\n",
    "filenames = ('input5.txt')\n",
    "savedInputs=[]\n",
    "for line in fileinput.input(files=filenames):\n",
    "    line = line.rstrip('\\n') #remove \\n \n",
    "    line = re.split(\"[\\s,\\-,\\>,\\,]+\",line)\n",
    "    savedInputs.append(line)\n",
    "fileinput.close()\n",
    "\n",
    "lines = savedInputs\n",
    "map_size=1000\n",
    "map=[[0 for i in range(map_size)] for i in range(map_size)]\n",
    "for line in lines:\n",
    "    a=[int(line[0]),int(line[1])]\n",
    "    b=[int(line[2]),int(line[3])]\n",
    "    isvert= a[1]==b[1]\n",
    "    ishor= a[0]==b[0]\n",
    "    isdiag=abs(a[1]-b[1])==abs(a[0]-b[0])\n",
    "    if(isvert or ishor):\n",
    "        if(isvert):\n",
    "            if(b[0]<a[0]):\n",
    "                temp=b\n",
    "                b=a\n",
    "                a=temp\n",
    "        elif(ishor):\n",
    "            if(b[1]<a[1]):\n",
    "                temp=b\n",
    "                b=a\n",
    "                a=temp\n",
    "        for x in range(a[0],b[0]+1):\n",
    "            for y in range(a[1],b[1]+1):\n",
    "                map[y][x]+=1\n",
    "    elif(isdiag):\n",
    "\n",
    "        xstep= abs(b[0]-a[0])/(b[0]-a[0])\n",
    "        ystep= abs(b[1]-a[1])/(b[1]-a[1])\n",
    "\n",
    "        for i in range(abs(a[0]-b[0])+1):\n",
    "            x=a[0]+int(xstep*i)\n",
    "            y=a[1]+int(ystep*i)\n",
    "            map[y][x]+=1\n",
    "#print(map)\n",
    "total=0\n",
    "for line in map:\n",
    "    for p in line:\n",
    "        if(p>=2):\n",
    "            total+=1\n",
    "            \n",
    "total\n"
   ]
  },
  {
   "cell_type": "code",
   "execution_count": 1198,
   "metadata": {},
   "outputs": [
    {
     "name": "stdout",
     "output_type": "stream",
     "text": [
      "362666\n"
     ]
    }
   ],
   "source": [
    "#day 5\n",
    "#part 1&2\n",
    "\n",
    "fileinput.close()\n",
    "\n",
    "filenames = ('input6.txt')\n",
    "savedInputs=[]\n",
    "for line in fileinput.input(files=filenames):\n",
    "    line = line.rstrip('\\n') #remove \\n \n",
    "    line = re.split(\"[\\,]+\",line)\n",
    "    savedInputs.append(line)\n",
    "fileinput.close()\n",
    "\n",
    "fishies=[]\n",
    "for fish in range(len(savedInputs[0])):\n",
    "    fishies.append(int(savedInputs[0][fish]))\n",
    "\n",
    "#part1\n",
    "days=80\n",
    "for day in range(days):\n",
    "    breed=0\n",
    "    for fish in range(len(fishies)):\n",
    "        if(fishies[fish]==0):\n",
    "            fishies[fish]=6\n",
    "            breed+=1\n",
    "        else:\n",
    "            fishies[fish]-=1\n",
    "    \n",
    "    for f in range(breed):\n",
    "        fishies.append(8)\n",
    "\n",
    "    #print(str(day+1)+\" : \"+str(fishies))\n",
    "print(len(fishies))\n",
    "\n"
   ]
  },
  {
   "cell_type": "code",
   "execution_count": 1199,
   "metadata": {},
   "outputs": [
    {
     "name": "stdout",
     "output_type": "stream",
     "text": [
      "[0, 119, 45, 48, 40, 48, 0, 0, 0]\n"
     ]
    },
    {
     "data": {
      "text/plain": [
       "1640526601595"
      ]
     },
     "execution_count": 1199,
     "metadata": {},
     "output_type": "execute_result"
    }
   ],
   "source": [
    "#part2\n",
    "fishies=[]\n",
    "for fish in range(len(savedInputs[0])):\n",
    "    fishies.append(int(savedInputs[0][fish]))\n",
    "\n",
    "freq=[0 for i in range(9)]\n",
    "for f in fishies:\n",
    "    freq[f]+=1\n",
    "print(freq)\n",
    "#smarter way\n",
    "days=256\n",
    "for day in range(days):\n",
    "    breed=0\n",
    "    for age in range(len(freq)):\n",
    "        if(age==0):\n",
    "            breed+=freq[age]\n",
    "        else:\n",
    "            freq[age-1]=freq[age]\n",
    "        freq[age]=0\n",
    "    \n",
    "    freq[6]+=breed\n",
    "    freq[8]+=breed\n",
    "    #print(freq)\n",
    "total=0\n",
    "\n",
    "for i in freq:\n",
    "    total+=i\n",
    "total"
   ]
  },
  {
   "cell_type": "code",
   "execution_count": 1246,
   "metadata": {},
   "outputs": [
    {
     "name": "stdout",
     "output_type": "stream",
     "text": [
      "92439766.0\n"
     ]
    }
   ],
   "source": [
    "#day 7\n",
    "\n",
    "fileinput.close()\n",
    "\n",
    "filenames = ('input7.txt')\n",
    "savedInputs=[]\n",
    "for line in fileinput.input(files=filenames):\n",
    "    line = line.rstrip('\\n') #remove \\n \n",
    "    line = re.split(\"\\,\",line)\n",
    "    savedInputs=line\n",
    "fileinput.close()\n",
    "\n",
    "import statistics as stats\n",
    "crabs=[]\n",
    "sum=0\n",
    "for c in savedInputs:\n",
    "    crabs.append(int(c))\n",
    "    sum+=abs(int(c))\n",
    "#print(stats.median(crabs))\n",
    "#print(stats.mode(crabs))\n",
    "#print(sum)\n",
    "\n",
    "freqs=[0 for i in range(max(crabs)+1)]\n",
    "for c in crabs:\n",
    "    freqs[c]+=1\n",
    "\n",
    "h=stats.median(crabs) #part1 ez\n",
    "#h=2\n",
    "min=0\n",
    "for h in range(len(freqs)):\n",
    "    weightedsum=0\n",
    "    num=0\n",
    "    for f in freqs:\n",
    "        fuel=abs(num-h) #part1 cost\n",
    "        fuel=(fuel+1)*(fuel/2) #part2 cost\n",
    "        weightedsum+=f*fuel\n",
    "        if(h>0 and weightedsum>min):\n",
    "            break\n",
    "        num+=1\n",
    "    if(h==0):\n",
    "        min=weightedsum\n",
    "    elif(h>0 and weightedsum<min):\n",
    "        min=weightedsum\n",
    "    \n",
    "print(min)"
   ]
  }
 ],
 "metadata": {
  "interpreter": {
   "hash": "5ccb67ea8beaab0bbeb2d7e5946089ae56f3a615c4a6dd027806d8f00717599b"
  },
  "kernelspec": {
   "display_name": "Python 3.7.3 64-bit ('base')",
   "name": "python3"
  },
  "language_info": {
   "codemirror_mode": {
    "name": "ipython",
    "version": 3
   },
   "file_extension": ".py",
   "mimetype": "text/x-python",
   "name": "python",
   "nbconvert_exporter": "python",
   "pygments_lexer": "ipython3",
   "version": "3.7.3"
  },
  "orig_nbformat": 4
 },
 "nbformat": 4,
 "nbformat_minor": 2
}
